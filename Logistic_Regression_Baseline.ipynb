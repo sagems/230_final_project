{
  "nbformat": 4,
  "nbformat_minor": 0,
  "metadata": {
    "colab": {
      "provenance": []
    },
    "kernelspec": {
      "name": "python3",
      "display_name": "Python 3"
    },
    "language_info": {
      "name": "python"
    }
  },
  "cells": [
    {
      "cell_type": "markdown",
      "source": [
        "# Logistic Regression Model for Pineapple Plantation Prediction\n",
        "\n",
        "**Author**: Sage McGinley-Smith  \n",
        "**Class**: CS 230: Deep Learning  \n",
        "**Date**: November 2024\n",
        "\n",
        "This notebook takes the dataset I will be using for my Unet model and makes logistic regression classifications on a pixel by pixel basis. Due to computational constraints, the model is trained on only 26000 datapoints of the millions of pixels in the dataset. This should serve as basis for comparison to future deep learning segmentation models. As evidenced, the precision and recall for classification of pixels as pineapple plantations is low."
      ],
      "metadata": {
        "id": "bsGn7VUCQ0FQ"
      }
    },
    {
      "cell_type": "markdown",
      "source": [
        "# Install and Load Required Packages"
      ],
      "metadata": {
        "id": "lsmb2kROWKiy"
      }
    },
    {
      "cell_type": "code",
      "source": [
        "!pip install rasterio\n",
        "import rasterio\n",
        "import numpy as np\n",
        "from sklearn.model_selection import train_test_split\n",
        "from sklearn.linear_model import LogisticRegression\n",
        "from sklearn.metrics import accuracy_score, classification_report"
      ],
      "metadata": {
        "id": "5sgR5knqEFP-"
      },
      "execution_count": null,
      "outputs": []
    },
    {
      "cell_type": "markdown",
      "source": [
        "# Import Data From Drive Folder"
      ],
      "metadata": {
        "id": "-97SB2TqWVw6"
      }
    },
    {
      "cell_type": "code",
      "execution_count": null,
      "metadata": {
        "id": "pJtl04eRDxOb"
      },
      "outputs": [],
      "source": [
        "# mount google drive\n",
        "from google.colab import drive\n",
        "drive.mount('/content/drive')\n",
        "\n",
        "# Load all four sets of bands and labels\n",
        "label_files = [\n",
        "    \"/content/drive/My Drive/Senior Project/Training_Data_Full_Quads/mask_q2_2019.tif\",\n",
        "]\n",
        "band_files = [\n",
        "    \"/content/drive/My Drive/Senior Project/Training_Data_Full_Quads/image_q2_2019.tif\",\n",
        "]\n",
        "# Store bands and labels in lists\n",
        "bands_list = []\n",
        "labels_list = []\n",
        "\n",
        "for band_path, label_path in zip(band_files, label_files):\n",
        "    with rasterio.open(band_path) as bands_file:\n",
        "        bands = bands_file.read()  # Shape: (num_bands, height, width)\n",
        "        bands_list.append(bands)\n",
        "\n",
        "    with rasterio.open(label_path) as labels_file:\n",
        "        labels = labels_file.read(1)  # Shape: (height, width)\n",
        "        labels_list.append(labels)\n",
        "\n",
        "# Check dimensions consistency\n",
        "num_bands, height, width = bands_list[0].shape\n"
      ]
    },
    {
      "cell_type": "markdown",
      "source": [
        "# Reshape and Select X and Y Vectors"
      ],
      "metadata": {
        "id": "6XE7V16cWaVJ"
      }
    },
    {
      "cell_type": "code",
      "source": [
        "with rasterio.open(band_files[0]) as src:\n",
        "      band_names = src.descriptions\n",
        "      print(band_names)\n",
        "\n",
        "for i, bands in enumerate(bands_list):\n",
        "    print(f\"Shape of X Original: {bands.shape}\")\n",
        "for i, labels in enumerate(labels_list):\n",
        "    print(f\"Shape of Y Original: {labels.shape}\")\n",
        "reshaped_bands_list = [bands.reshape(9, -1).T for bands in bands_list]  # Reshape to (H * W, 9)\n",
        "reshaped_labels_list = [labels.reshape(-1, 1) for labels in labels_list]  # Reshape to (H * W, 1)\n",
        "\n",
        "# Example: Print shapes after reshaping\n",
        "for i, (bands, labels) in enumerate(zip(reshaped_bands_list, reshaped_labels_list)):\n",
        "    print(f\"Reshaped X: {bands.shape}\")\n",
        "    print(f\"Reshaped Y: {labels.shape}\")\n",
        "\n",
        "# Stack all reshaped bands and labels into single arrays\n",
        "x = np.vstack(reshaped_bands_list)  # Shape will be (total_pixels, 9)\n",
        "y = np.vstack(reshaped_labels_list)  # Shape will be (total_pixels, 1)\n",
        "# Identify indices where y == 0 and y == 1\n",
        "indices_0 = np.where(y == 0)[0]\n",
        "indices_1 = np.where(y == 1)[0]\n",
        "\n",
        "# Randomly select 26,000 indices from class 0 and 1,000 from class 1\n",
        "selected_indices_0 = np.random.choice(indices_0, size=25000, replace=False)\n",
        "selected_indices_1 = np.random.choice(indices_1, size=1000, replace=False)\n",
        "\n",
        "# Combine selected indices and shuffle\n",
        "selected_indices = np.concatenate([selected_indices_0, selected_indices_1])\n",
        "np.random.shuffle(selected_indices)\n",
        "\n",
        "# Select the corresponding x and y values\n",
        "x = x[selected_indices]\n",
        "y = y[selected_indices]\n",
        "\n",
        "# Assuming band_names contains the names of the bands in the correct order\n",
        "band_names = ['B2', 'B3', 'B4', 'B8', 'B11', 'NDVI', 'SAVI', 'NDMI', 'NDWI']\n",
        "\n",
        "# Identify the indices for 'B2', 'B3', and 'B4'\n",
        "selected_band_indices = [band_names.index(band) for band in ['B2', 'B3', 'B4']]\n",
        "\n",
        "# Create a new x array with only the selected bands\n",
        "x_rgb = x[:, selected_band_indices]\n",
        "y_rgb = y\n",
        "\n",
        "# Print the shapes of the final arrays\n",
        "print(f\"Final Shape of X (Selected): {x.shape}\")\n",
        "print(f\"Final Shape of Y (Selected): {y.shape}\")"
      ],
      "metadata": {
        "id": "7Mt20ahiIOlc"
      },
      "execution_count": null,
      "outputs": []
    },
    {
      "cell_type": "markdown",
      "source": [
        "# Split Data Into Train and Test and Fit Model (All Bands)\n"
      ],
      "metadata": {
        "id": "gUb9z99ZW3PW"
      }
    },
    {
      "cell_type": "code",
      "source": [
        "# Split data into training and testing sets\n",
        "x_train, x_test, y_train, y_test = train_test_split(\n",
        "    x, y, test_size=0.2, random_state=42, stratify=y  # Stratify ensures balanced label distribution\n",
        ")\n",
        "# Initialize the logistic regression model\n",
        "log_reg_model = LogisticRegression(max_iter=1000, random_state=42)\n",
        "\n",
        "# Train the model on the training data\n",
        "log_reg_model.fit(x_train, y_train)\n",
        "# Predict on the test set\n",
        "y_pred = log_reg_model.predict(x_test)"
      ],
      "metadata": {
        "id": "9WrvgrH0GFoS"
      },
      "execution_count": null,
      "outputs": []
    },
    {
      "cell_type": "markdown",
      "source": [
        "# Model Evaluation (All Bands)"
      ],
      "metadata": {
        "id": "5V3lnvaWXHWk"
      }
    },
    {
      "cell_type": "code",
      "source": [
        "# Evaluate the model\n",
        "print(\"Accuracy:\", accuracy_score(y_test, y_pred))\n",
        "print(\"Classification Report:\\n\", classification_report(y_test, y_pred))"
      ],
      "metadata": {
        "id": "04FBWEi0SQuY"
      },
      "execution_count": null,
      "outputs": []
    },
    {
      "cell_type": "markdown",
      "source": [
        "# Split Data Into Train and Test and Fit Model (RGB Only)\n"
      ],
      "metadata": {
        "id": "_waUb7Yx6G3Y"
      }
    },
    {
      "cell_type": "code",
      "source": [
        "# Split data into training and testing sets\n",
        "x_train, x_test, y_train, y_test = train_test_split(\n",
        "    x_rgb, y_rgb, test_size=0.2, random_state=42, stratify=y  # Stratify ensures balanced label distribution\n",
        ")\n",
        "# Initialize the logistic regression model\n",
        "log_reg_model = LogisticRegression(max_iter=1000, random_state=42)\n",
        "\n",
        "# Train the model on the training data\n",
        "log_reg_model.fit(x_train, y_train)\n",
        "# Predict on the test set\n",
        "y_pred = log_reg_model.predict(x_test)"
      ],
      "metadata": {
        "id": "6Wa9K3Fb6HXI"
      },
      "execution_count": null,
      "outputs": []
    },
    {
      "cell_type": "markdown",
      "source": [
        "# Model Evaluation (RGB Only)"
      ],
      "metadata": {
        "id": "_sY5Qf9n7Ibp"
      }
    },
    {
      "cell_type": "code",
      "source": [
        "# Evaluate the model\n",
        "print(\"Accuracy:\", accuracy_score(y_test, y_pred))\n",
        "print(\"Classification Report:\\n\", classification_report(y_test, y_pred))"
      ],
      "metadata": {
        "id": "Iq6FktGp7Iys"
      },
      "execution_count": null,
      "outputs": []
    }
  ]
}